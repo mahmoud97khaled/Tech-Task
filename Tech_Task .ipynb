{
  "nbformat": 4,
  "nbformat_minor": 0,
  "metadata": {
    "colab": {
      "name": " Tech Task F.ipynb",
      "provenance": [],
      "collapsed_sections": []
    },
    "kernelspec": {
      "name": "python3",
      "display_name": "Python 3"
    },
    "language_info": {
      "name": "python"
    },
    "accelerator": "GPU"
  },
  "cells": [
    {
      "cell_type": "markdown",
      "source": [
        "*Fashion* Product Images (Small Dataset)"
      ],
      "metadata": {
        "id": "IMJ5Pk5ZauPu"
      }
    },
    {
      "cell_type": "markdown",
      "source": [
        "Download Dataset from : https://drive.google.com/file/d/1IJHl6YctfkI2MG1CH1VeHtsGiJAY8lXj/view\n"
      ],
      "metadata": {
        "id": "a1eihGxjavIc"
      }
    },
    {
      "cell_type": "code",
      "execution_count": null,
      "metadata": {
        "colab": {
          "base_uri": "https://localhost:8080/"
        },
        "id": "scQ4JAeGYXuh",
        "outputId": "b12b5bb9-5a14-4ebd-ce05-1157ce6766e3"
      },
      "outputs": [
        {
          "output_type": "stream",
          "name": "stdout",
          "text": [
            "/usr/local/lib/python3.7/dist-packages/gdown/cli.py:131: FutureWarning: Option `--id` was deprecated in version 4.3.1 and will be removed in 5.0. You don't need to pass it anymore to use a file ID.\n",
            "  category=FutureWarning,\n",
            "Downloading...\n",
            "From: https://drive.google.com/uc?id=1IJHl6YctfkI2MG1CH1VeHtsGiJAY8lXj\n",
            "To: /content/Fashion Product Images (Small).zip\n",
            "100% 593M/593M [00:04<00:00, 126MB/s]\n"
          ]
        }
      ],
      "source": [
        "!gdown --id 1IJHl6YctfkI2MG1CH1VeHtsGiJAY8lXj\n"
      ]
    },
    {
      "cell_type": "markdown",
      "source": [
        "Unzip compressed file"
      ],
      "metadata": {
        "id": "9f_Faq06bK8Z"
      }
    },
    {
      "cell_type": "code",
      "source": [
        "!unzip '/content/Fashion Product Images (Small).zip'\n"
      ],
      "metadata": {
        "id": "7bHBxm_Laqbv"
      },
      "execution_count": null,
      "outputs": []
    },
    {
      "cell_type": "markdown",
      "source": [
        "Loading Data"
      ],
      "metadata": {
        "id": "R-tzCIJocJbC"
      }
    },
    {
      "cell_type": "code",
      "source": [
        "# IMport Libraries\n",
        "import numpy as np\n",
        "import pandas as pd\n",
        "import matplotlib.pyplot as plt\n",
        "import seaborn as sns\n",
        "\n",
        "import os\n",
        "\n",
        "\n",
        "import PIL\n",
        "import tensorflow as tf\n",
        "import matplotlib.image as image\n",
        "import seaborn as sns\n",
        "import pickle \n",
        "\n",
        "from matplotlib.pyplot import figure, imshow, axis\n",
        "from matplotlib.image import imread\n",
        "from tensorflow.keras.preprocessing.image import ImageDataGenerator\n",
        "from sklearn.model_selection import train_test_split\n",
        "\n",
        "from tensorflow import keras\n",
        "from tensorflow.keras import layers\n",
        "from tensorflow.keras.layers import Input, Conv2D, MaxPool2D, Dropout, Dense, BatchNormalization\n",
        "from tensorflow.keras.layers import Flatten\n",
        "from tensorflow.keras.models import Sequential\n",
        "import random\n",
        "from tensorflow.keras.models import Model\n",
        "from tensorflow.keras.preprocessing import image\n",
        "\n",
        "import warnings\n",
        "warnings.filterwarnings('ignore')\n"
      ],
      "metadata": {
        "id": "cihU-BApcGBP"
      },
      "execution_count": null,
      "outputs": []
    },
    {
      "cell_type": "code",
      "source": [
        "#reading the styles.csv file\n",
        "df = pd.read_csv('/content/styles.csv', header = 'infer',error_bad_lines = False)\n",
        "df"
      ],
      "metadata": {
        "colab": {
          "base_uri": "https://localhost:8080/",
          "height": 679
        },
        "id": "QrXRq2nBasYX",
        "outputId": "ba1702e7-378a-45c6-9151-8c1fb1974ce6"
      },
      "execution_count": null,
      "outputs": [
        {
          "output_type": "stream",
          "name": "stderr",
          "text": [
            "b'Skipping line 6044: expected 10 fields, saw 11\\nSkipping line 6569: expected 10 fields, saw 11\\nSkipping line 7399: expected 10 fields, saw 11\\nSkipping line 7939: expected 10 fields, saw 11\\nSkipping line 9026: expected 10 fields, saw 11\\nSkipping line 10264: expected 10 fields, saw 11\\nSkipping line 10427: expected 10 fields, saw 11\\nSkipping line 10905: expected 10 fields, saw 11\\nSkipping line 11373: expected 10 fields, saw 11\\nSkipping line 11945: expected 10 fields, saw 11\\nSkipping line 14112: expected 10 fields, saw 11\\nSkipping line 14532: expected 10 fields, saw 11\\nSkipping line 15076: expected 10 fields, saw 12\\nSkipping line 29906: expected 10 fields, saw 11\\nSkipping line 31625: expected 10 fields, saw 11\\nSkipping line 33020: expected 10 fields, saw 11\\nSkipping line 35748: expected 10 fields, saw 11\\nSkipping line 35962: expected 10 fields, saw 11\\nSkipping line 37770: expected 10 fields, saw 11\\nSkipping line 38105: expected 10 fields, saw 11\\nSkipping line 38275: expected 10 fields, saw 11\\nSkipping line 38404: expected 10 fields, saw 12\\n'\n"
          ]
        },
        {
          "output_type": "execute_result",
          "data": {
            "text/plain": [
              "          id gender masterCategory subCategory            articleType  \\\n",
              "0      15970    Men        Apparel     Topwear                 Shirts   \n",
              "1      39386    Men        Apparel  Bottomwear                  Jeans   \n",
              "2      59263  Women    Accessories     Watches                Watches   \n",
              "3      21379    Men        Apparel  Bottomwear            Track Pants   \n",
              "4      53759    Men        Apparel     Topwear                Tshirts   \n",
              "...      ...    ...            ...         ...                    ...   \n",
              "44419  17036    Men       Footwear       Shoes           Casual Shoes   \n",
              "44420   6461    Men       Footwear  Flip Flops             Flip Flops   \n",
              "44421  18842    Men        Apparel     Topwear                Tshirts   \n",
              "44422  46694  Women  Personal Care   Fragrance  Perfume and Body Mist   \n",
              "44423  51623  Women    Accessories     Watches                Watches   \n",
              "\n",
              "      baseColour  season    year   usage  \\\n",
              "0      Navy Blue    Fall  2011.0  Casual   \n",
              "1           Blue  Summer  2012.0  Casual   \n",
              "2         Silver  Winter  2016.0  Casual   \n",
              "3          Black    Fall  2011.0  Casual   \n",
              "4           Grey  Summer  2012.0  Casual   \n",
              "...          ...     ...     ...     ...   \n",
              "44419      White  Summer  2013.0  Casual   \n",
              "44420        Red  Summer  2011.0  Casual   \n",
              "44421       Blue    Fall  2011.0  Casual   \n",
              "44422       Blue  Spring  2017.0  Casual   \n",
              "44423       Pink  Winter  2016.0  Casual   \n",
              "\n",
              "                                    productDisplayName  \n",
              "0                     Turtle Check Men Navy Blue Shirt  \n",
              "1                   Peter England Men Party Blue Jeans  \n",
              "2                             Titan Women Silver Watch  \n",
              "3        Manchester United Men Solid Black Track Pants  \n",
              "4                                Puma Men Grey T-shirt  \n",
              "...                                                ...  \n",
              "44419                        Gas Men Caddy Casual Shoe  \n",
              "44420               Lotto Men's Soccer Track Flip Flop  \n",
              "44421             Puma Men Graphic Stellar Blue Tshirt  \n",
              "44422                   Rasasi Women Blue Lady Perfume  \n",
              "44423  Fossil Women Pink Dial Chronograph Watch ES3050  \n",
              "\n",
              "[44424 rows x 10 columns]"
            ],
            "text/html": [
              "\n",
              "  <div id=\"df-3e8ef48e-e2d4-45b3-9902-ecea1db1184b\">\n",
              "    <div class=\"colab-df-container\">\n",
              "      <div>\n",
              "<style scoped>\n",
              "    .dataframe tbody tr th:only-of-type {\n",
              "        vertical-align: middle;\n",
              "    }\n",
              "\n",
              "    .dataframe tbody tr th {\n",
              "        vertical-align: top;\n",
              "    }\n",
              "\n",
              "    .dataframe thead th {\n",
              "        text-align: right;\n",
              "    }\n",
              "</style>\n",
              "<table border=\"1\" class=\"dataframe\">\n",
              "  <thead>\n",
              "    <tr style=\"text-align: right;\">\n",
              "      <th></th>\n",
              "      <th>id</th>\n",
              "      <th>gender</th>\n",
              "      <th>masterCategory</th>\n",
              "      <th>subCategory</th>\n",
              "      <th>articleType</th>\n",
              "      <th>baseColour</th>\n",
              "      <th>season</th>\n",
              "      <th>year</th>\n",
              "      <th>usage</th>\n",
              "      <th>productDisplayName</th>\n",
              "    </tr>\n",
              "  </thead>\n",
              "  <tbody>\n",
              "    <tr>\n",
              "      <th>0</th>\n",
              "      <td>15970</td>\n",
              "      <td>Men</td>\n",
              "      <td>Apparel</td>\n",
              "      <td>Topwear</td>\n",
              "      <td>Shirts</td>\n",
              "      <td>Navy Blue</td>\n",
              "      <td>Fall</td>\n",
              "      <td>2011.0</td>\n",
              "      <td>Casual</td>\n",
              "      <td>Turtle Check Men Navy Blue Shirt</td>\n",
              "    </tr>\n",
              "    <tr>\n",
              "      <th>1</th>\n",
              "      <td>39386</td>\n",
              "      <td>Men</td>\n",
              "      <td>Apparel</td>\n",
              "      <td>Bottomwear</td>\n",
              "      <td>Jeans</td>\n",
              "      <td>Blue</td>\n",
              "      <td>Summer</td>\n",
              "      <td>2012.0</td>\n",
              "      <td>Casual</td>\n",
              "      <td>Peter England Men Party Blue Jeans</td>\n",
              "    </tr>\n",
              "    <tr>\n",
              "      <th>2</th>\n",
              "      <td>59263</td>\n",
              "      <td>Women</td>\n",
              "      <td>Accessories</td>\n",
              "      <td>Watches</td>\n",
              "      <td>Watches</td>\n",
              "      <td>Silver</td>\n",
              "      <td>Winter</td>\n",
              "      <td>2016.0</td>\n",
              "      <td>Casual</td>\n",
              "      <td>Titan Women Silver Watch</td>\n",
              "    </tr>\n",
              "    <tr>\n",
              "      <th>3</th>\n",
              "      <td>21379</td>\n",
              "      <td>Men</td>\n",
              "      <td>Apparel</td>\n",
              "      <td>Bottomwear</td>\n",
              "      <td>Track Pants</td>\n",
              "      <td>Black</td>\n",
              "      <td>Fall</td>\n",
              "      <td>2011.0</td>\n",
              "      <td>Casual</td>\n",
              "      <td>Manchester United Men Solid Black Track Pants</td>\n",
              "    </tr>\n",
              "    <tr>\n",
              "      <th>4</th>\n",
              "      <td>53759</td>\n",
              "      <td>Men</td>\n",
              "      <td>Apparel</td>\n",
              "      <td>Topwear</td>\n",
              "      <td>Tshirts</td>\n",
              "      <td>Grey</td>\n",
              "      <td>Summer</td>\n",
              "      <td>2012.0</td>\n",
              "      <td>Casual</td>\n",
              "      <td>Puma Men Grey T-shirt</td>\n",
              "    </tr>\n",
              "    <tr>\n",
              "      <th>...</th>\n",
              "      <td>...</td>\n",
              "      <td>...</td>\n",
              "      <td>...</td>\n",
              "      <td>...</td>\n",
              "      <td>...</td>\n",
              "      <td>...</td>\n",
              "      <td>...</td>\n",
              "      <td>...</td>\n",
              "      <td>...</td>\n",
              "      <td>...</td>\n",
              "    </tr>\n",
              "    <tr>\n",
              "      <th>44419</th>\n",
              "      <td>17036</td>\n",
              "      <td>Men</td>\n",
              "      <td>Footwear</td>\n",
              "      <td>Shoes</td>\n",
              "      <td>Casual Shoes</td>\n",
              "      <td>White</td>\n",
              "      <td>Summer</td>\n",
              "      <td>2013.0</td>\n",
              "      <td>Casual</td>\n",
              "      <td>Gas Men Caddy Casual Shoe</td>\n",
              "    </tr>\n",
              "    <tr>\n",
              "      <th>44420</th>\n",
              "      <td>6461</td>\n",
              "      <td>Men</td>\n",
              "      <td>Footwear</td>\n",
              "      <td>Flip Flops</td>\n",
              "      <td>Flip Flops</td>\n",
              "      <td>Red</td>\n",
              "      <td>Summer</td>\n",
              "      <td>2011.0</td>\n",
              "      <td>Casual</td>\n",
              "      <td>Lotto Men's Soccer Track Flip Flop</td>\n",
              "    </tr>\n",
              "    <tr>\n",
              "      <th>44421</th>\n",
              "      <td>18842</td>\n",
              "      <td>Men</td>\n",
              "      <td>Apparel</td>\n",
              "      <td>Topwear</td>\n",
              "      <td>Tshirts</td>\n",
              "      <td>Blue</td>\n",
              "      <td>Fall</td>\n",
              "      <td>2011.0</td>\n",
              "      <td>Casual</td>\n",
              "      <td>Puma Men Graphic Stellar Blue Tshirt</td>\n",
              "    </tr>\n",
              "    <tr>\n",
              "      <th>44422</th>\n",
              "      <td>46694</td>\n",
              "      <td>Women</td>\n",
              "      <td>Personal Care</td>\n",
              "      <td>Fragrance</td>\n",
              "      <td>Perfume and Body Mist</td>\n",
              "      <td>Blue</td>\n",
              "      <td>Spring</td>\n",
              "      <td>2017.0</td>\n",
              "      <td>Casual</td>\n",
              "      <td>Rasasi Women Blue Lady Perfume</td>\n",
              "    </tr>\n",
              "    <tr>\n",
              "      <th>44423</th>\n",
              "      <td>51623</td>\n",
              "      <td>Women</td>\n",
              "      <td>Accessories</td>\n",
              "      <td>Watches</td>\n",
              "      <td>Watches</td>\n",
              "      <td>Pink</td>\n",
              "      <td>Winter</td>\n",
              "      <td>2016.0</td>\n",
              "      <td>Casual</td>\n",
              "      <td>Fossil Women Pink Dial Chronograph Watch ES3050</td>\n",
              "    </tr>\n",
              "  </tbody>\n",
              "</table>\n",
              "<p>44424 rows × 10 columns</p>\n",
              "</div>\n",
              "      <button class=\"colab-df-convert\" onclick=\"convertToInteractive('df-3e8ef48e-e2d4-45b3-9902-ecea1db1184b')\"\n",
              "              title=\"Convert this dataframe to an interactive table.\"\n",
              "              style=\"display:none;\">\n",
              "        \n",
              "  <svg xmlns=\"http://www.w3.org/2000/svg\" height=\"24px\"viewBox=\"0 0 24 24\"\n",
              "       width=\"24px\">\n",
              "    <path d=\"M0 0h24v24H0V0z\" fill=\"none\"/>\n",
              "    <path d=\"M18.56 5.44l.94 2.06.94-2.06 2.06-.94-2.06-.94-.94-2.06-.94 2.06-2.06.94zm-11 1L8.5 8.5l.94-2.06 2.06-.94-2.06-.94L8.5 2.5l-.94 2.06-2.06.94zm10 10l.94 2.06.94-2.06 2.06-.94-2.06-.94-.94-2.06-.94 2.06-2.06.94z\"/><path d=\"M17.41 7.96l-1.37-1.37c-.4-.4-.92-.59-1.43-.59-.52 0-1.04.2-1.43.59L10.3 9.45l-7.72 7.72c-.78.78-.78 2.05 0 2.83L4 21.41c.39.39.9.59 1.41.59.51 0 1.02-.2 1.41-.59l7.78-7.78 2.81-2.81c.8-.78.8-2.07 0-2.86zM5.41 20L4 18.59l7.72-7.72 1.47 1.35L5.41 20z\"/>\n",
              "  </svg>\n",
              "      </button>\n",
              "      \n",
              "  <style>\n",
              "    .colab-df-container {\n",
              "      display:flex;\n",
              "      flex-wrap:wrap;\n",
              "      gap: 12px;\n",
              "    }\n",
              "\n",
              "    .colab-df-convert {\n",
              "      background-color: #E8F0FE;\n",
              "      border: none;\n",
              "      border-radius: 50%;\n",
              "      cursor: pointer;\n",
              "      display: none;\n",
              "      fill: #1967D2;\n",
              "      height: 32px;\n",
              "      padding: 0 0 0 0;\n",
              "      width: 32px;\n",
              "    }\n",
              "\n",
              "    .colab-df-convert:hover {\n",
              "      background-color: #E2EBFA;\n",
              "      box-shadow: 0px 1px 2px rgba(60, 64, 67, 0.3), 0px 1px 3px 1px rgba(60, 64, 67, 0.15);\n",
              "      fill: #174EA6;\n",
              "    }\n",
              "\n",
              "    [theme=dark] .colab-df-convert {\n",
              "      background-color: #3B4455;\n",
              "      fill: #D2E3FC;\n",
              "    }\n",
              "\n",
              "    [theme=dark] .colab-df-convert:hover {\n",
              "      background-color: #434B5C;\n",
              "      box-shadow: 0px 1px 3px 1px rgba(0, 0, 0, 0.15);\n",
              "      filter: drop-shadow(0px 1px 2px rgba(0, 0, 0, 0.3));\n",
              "      fill: #FFFFFF;\n",
              "    }\n",
              "  </style>\n",
              "\n",
              "      <script>\n",
              "        const buttonEl =\n",
              "          document.querySelector('#df-3e8ef48e-e2d4-45b3-9902-ecea1db1184b button.colab-df-convert');\n",
              "        buttonEl.style.display =\n",
              "          google.colab.kernel.accessAllowed ? 'block' : 'none';\n",
              "\n",
              "        async function convertToInteractive(key) {\n",
              "          const element = document.querySelector('#df-3e8ef48e-e2d4-45b3-9902-ecea1db1184b');\n",
              "          const dataTable =\n",
              "            await google.colab.kernel.invokeFunction('convertToInteractive',\n",
              "                                                     [key], {});\n",
              "          if (!dataTable) return;\n",
              "\n",
              "          const docLinkHtml = 'Like what you see? Visit the ' +\n",
              "            '<a target=\"_blank\" href=https://colab.research.google.com/notebooks/data_table.ipynb>data table notebook</a>'\n",
              "            + ' to learn more about interactive tables.';\n",
              "          element.innerHTML = '';\n",
              "          dataTable['output_type'] = 'display_data';\n",
              "          await google.colab.output.renderOutput(dataTable, element);\n",
              "          const docLink = document.createElement('div');\n",
              "          docLink.innerHTML = docLinkHtml;\n",
              "          element.appendChild(docLink);\n",
              "        }\n",
              "      </script>\n",
              "    </div>\n",
              "  </div>\n",
              "  "
            ]
          },
          "metadata": {},
          "execution_count": 4
        }
      ]
    },
    {
      "cell_type": "code",
      "source": [
        "df.info()"
      ],
      "metadata": {
        "colab": {
          "base_uri": "https://localhost:8080/"
        },
        "id": "KE0F_yHscTEE",
        "outputId": "0a7e65be-3640-4c69-b47b-05072c8dc4fe"
      },
      "execution_count": null,
      "outputs": [
        {
          "output_type": "stream",
          "name": "stdout",
          "text": [
            "<class 'pandas.core.frame.DataFrame'>\n",
            "RangeIndex: 44424 entries, 0 to 44423\n",
            "Data columns (total 10 columns):\n",
            " #   Column              Non-Null Count  Dtype  \n",
            "---  ------              --------------  -----  \n",
            " 0   id                  44424 non-null  int64  \n",
            " 1   gender              44424 non-null  object \n",
            " 2   masterCategory      44424 non-null  object \n",
            " 3   subCategory         44424 non-null  object \n",
            " 4   articleType         44424 non-null  object \n",
            " 5   baseColour          44409 non-null  object \n",
            " 6   season              44403 non-null  object \n",
            " 7   year                44423 non-null  float64\n",
            " 8   usage               44107 non-null  object \n",
            " 9   productDisplayName  44417 non-null  object \n",
            "dtypes: float64(1), int64(1), object(8)\n",
            "memory usage: 3.4+ MB\n"
          ]
        }
      ]
    },
    {
      "cell_type": "code",
      "source": [
        "df = df[['id','articleType']] # filtering to 2 columns of our interest"
      ],
      "metadata": {
        "id": "hfRWrc7AM8aN"
      },
      "execution_count": null,
      "outputs": []
    },
    {
      "cell_type": "code",
      "source": [
        "df['articleType'].value_counts()\n"
      ],
      "metadata": {
        "colab": {
          "base_uri": "https://localhost:8080/"
        },
        "id": "7f90rE8bM61g",
        "outputId": "4ea28db6-435b-4f95-e780-2bcfb01f36df"
      },
      "execution_count": null,
      "outputs": [
        {
          "output_type": "execute_result",
          "data": {
            "text/plain": [
              "Tshirts                7067\n",
              "Shirts                 3217\n",
              "Casual Shoes           2845\n",
              "Watches                2542\n",
              "Sports Shoes           2036\n",
              "                       ... \n",
              "Shoe Laces                1\n",
              "Mens Grooming Kit         1\n",
              "Body Wash and Scrub       1\n",
              "Suits                     1\n",
              "Ipad                      1\n",
              "Name: articleType, Length: 143, dtype: int64"
            ]
          },
          "metadata": {},
          "execution_count": 7
        }
      ]
    },
    {
      "cell_type": "code",
      "source": [
        "df['articleType'].nunique()\n"
      ],
      "metadata": {
        "colab": {
          "base_uri": "https://localhost:8080/"
        },
        "id": "6XI-ijUINpLd",
        "outputId": "abb757fd-7617-4994-bf9c-3947c394a625"
      },
      "execution_count": null,
      "outputs": [
        {
          "output_type": "execute_result",
          "data": {
            "text/plain": [
              "143"
            ]
          },
          "metadata": {},
          "execution_count": 8
        }
      ]
    },
    {
      "cell_type": "markdown",
      "source": [
        "Remove article Type classes which is in article Type column that is less than 1000\n",
        "\n",
        "\n"
      ],
      "metadata": {
        "id": "mbBVW5-3V0kk"
      }
    },
    {
      "cell_type": "code",
      "source": [
        "vc=df['articleType'].value_counts()\n",
        "indx= vc.index\n",
        "valu = vc.values\n",
        "for i in range(len(vc)):\n",
        "\n",
        "    if valu[i] <1000:\n",
        "        break\n",
        "\n",
        "cloth_used = indx[:i]\n",
        "print('Base cloth used: ',cloth_used)"
      ],
      "metadata": {
        "id": "cJ8u0JqAM8eA",
        "colab": {
          "base_uri": "https://localhost:8080/"
        },
        "outputId": "aef14d08-cf99-4b9d-9f2e-af53c7178629"
      },
      "execution_count": null,
      "outputs": [
        {
          "output_type": "stream",
          "name": "stdout",
          "text": [
            "Base cloth used:  Index(['Tshirts', 'Shirts', 'Casual Shoes', 'Watches', 'Sports Shoes',\n",
            "       'Kurtas', 'Tops', 'Handbags', 'Heels', 'Sunglasses'],\n",
            "      dtype='object')\n"
          ]
        }
      ]
    },
    {
      "cell_type": "markdown",
      "source": [
        "10 classes remained"
      ],
      "metadata": {
        "id": "WDW9BSUlWQFZ"
      }
    },
    {
      "cell_type": "code",
      "source": [
        "# Removing all the examples with labels other than the selected ones\n",
        " \n",
        "df = df[df['articleType'].isin(cloth_used)]\n",
        "df"
      ],
      "metadata": {
        "colab": {
          "base_uri": "https://localhost:8080/",
          "height": 424
        },
        "id": "d7rgy26IQtkT",
        "outputId": "fd045b55-e509-4e54-bc21-263b93d0497d"
      },
      "execution_count": null,
      "outputs": [
        {
          "output_type": "execute_result",
          "data": {
            "text/plain": [
              "          id   articleType\n",
              "0      15970        Shirts\n",
              "2      59263       Watches\n",
              "4      53759       Tshirts\n",
              "5       1855       Tshirts\n",
              "6      30805        Shirts\n",
              "...      ...           ...\n",
              "44417  12544       Tshirts\n",
              "44418  42234          Tops\n",
              "44419  17036  Casual Shoes\n",
              "44421  18842       Tshirts\n",
              "44423  51623       Watches\n",
              "\n",
              "[25468 rows x 2 columns]"
            ],
            "text/html": [
              "\n",
              "  <div id=\"df-d087228f-37ce-4fd9-9e2b-e36bd785a159\">\n",
              "    <div class=\"colab-df-container\">\n",
              "      <div>\n",
              "<style scoped>\n",
              "    .dataframe tbody tr th:only-of-type {\n",
              "        vertical-align: middle;\n",
              "    }\n",
              "\n",
              "    .dataframe tbody tr th {\n",
              "        vertical-align: top;\n",
              "    }\n",
              "\n",
              "    .dataframe thead th {\n",
              "        text-align: right;\n",
              "    }\n",
              "</style>\n",
              "<table border=\"1\" class=\"dataframe\">\n",
              "  <thead>\n",
              "    <tr style=\"text-align: right;\">\n",
              "      <th></th>\n",
              "      <th>id</th>\n",
              "      <th>articleType</th>\n",
              "    </tr>\n",
              "  </thead>\n",
              "  <tbody>\n",
              "    <tr>\n",
              "      <th>0</th>\n",
              "      <td>15970</td>\n",
              "      <td>Shirts</td>\n",
              "    </tr>\n",
              "    <tr>\n",
              "      <th>2</th>\n",
              "      <td>59263</td>\n",
              "      <td>Watches</td>\n",
              "    </tr>\n",
              "    <tr>\n",
              "      <th>4</th>\n",
              "      <td>53759</td>\n",
              "      <td>Tshirts</td>\n",
              "    </tr>\n",
              "    <tr>\n",
              "      <th>5</th>\n",
              "      <td>1855</td>\n",
              "      <td>Tshirts</td>\n",
              "    </tr>\n",
              "    <tr>\n",
              "      <th>6</th>\n",
              "      <td>30805</td>\n",
              "      <td>Shirts</td>\n",
              "    </tr>\n",
              "    <tr>\n",
              "      <th>...</th>\n",
              "      <td>...</td>\n",
              "      <td>...</td>\n",
              "    </tr>\n",
              "    <tr>\n",
              "      <th>44417</th>\n",
              "      <td>12544</td>\n",
              "      <td>Tshirts</td>\n",
              "    </tr>\n",
              "    <tr>\n",
              "      <th>44418</th>\n",
              "      <td>42234</td>\n",
              "      <td>Tops</td>\n",
              "    </tr>\n",
              "    <tr>\n",
              "      <th>44419</th>\n",
              "      <td>17036</td>\n",
              "      <td>Casual Shoes</td>\n",
              "    </tr>\n",
              "    <tr>\n",
              "      <th>44421</th>\n",
              "      <td>18842</td>\n",
              "      <td>Tshirts</td>\n",
              "    </tr>\n",
              "    <tr>\n",
              "      <th>44423</th>\n",
              "      <td>51623</td>\n",
              "      <td>Watches</td>\n",
              "    </tr>\n",
              "  </tbody>\n",
              "</table>\n",
              "<p>25468 rows × 2 columns</p>\n",
              "</div>\n",
              "      <button class=\"colab-df-convert\" onclick=\"convertToInteractive('df-d087228f-37ce-4fd9-9e2b-e36bd785a159')\"\n",
              "              title=\"Convert this dataframe to an interactive table.\"\n",
              "              style=\"display:none;\">\n",
              "        \n",
              "  <svg xmlns=\"http://www.w3.org/2000/svg\" height=\"24px\"viewBox=\"0 0 24 24\"\n",
              "       width=\"24px\">\n",
              "    <path d=\"M0 0h24v24H0V0z\" fill=\"none\"/>\n",
              "    <path d=\"M18.56 5.44l.94 2.06.94-2.06 2.06-.94-2.06-.94-.94-2.06-.94 2.06-2.06.94zm-11 1L8.5 8.5l.94-2.06 2.06-.94-2.06-.94L8.5 2.5l-.94 2.06-2.06.94zm10 10l.94 2.06.94-2.06 2.06-.94-2.06-.94-.94-2.06-.94 2.06-2.06.94z\"/><path d=\"M17.41 7.96l-1.37-1.37c-.4-.4-.92-.59-1.43-.59-.52 0-1.04.2-1.43.59L10.3 9.45l-7.72 7.72c-.78.78-.78 2.05 0 2.83L4 21.41c.39.39.9.59 1.41.59.51 0 1.02-.2 1.41-.59l7.78-7.78 2.81-2.81c.8-.78.8-2.07 0-2.86zM5.41 20L4 18.59l7.72-7.72 1.47 1.35L5.41 20z\"/>\n",
              "  </svg>\n",
              "      </button>\n",
              "      \n",
              "  <style>\n",
              "    .colab-df-container {\n",
              "      display:flex;\n",
              "      flex-wrap:wrap;\n",
              "      gap: 12px;\n",
              "    }\n",
              "\n",
              "    .colab-df-convert {\n",
              "      background-color: #E8F0FE;\n",
              "      border: none;\n",
              "      border-radius: 50%;\n",
              "      cursor: pointer;\n",
              "      display: none;\n",
              "      fill: #1967D2;\n",
              "      height: 32px;\n",
              "      padding: 0 0 0 0;\n",
              "      width: 32px;\n",
              "    }\n",
              "\n",
              "    .colab-df-convert:hover {\n",
              "      background-color: #E2EBFA;\n",
              "      box-shadow: 0px 1px 2px rgba(60, 64, 67, 0.3), 0px 1px 3px 1px rgba(60, 64, 67, 0.15);\n",
              "      fill: #174EA6;\n",
              "    }\n",
              "\n",
              "    [theme=dark] .colab-df-convert {\n",
              "      background-color: #3B4455;\n",
              "      fill: #D2E3FC;\n",
              "    }\n",
              "\n",
              "    [theme=dark] .colab-df-convert:hover {\n",
              "      background-color: #434B5C;\n",
              "      box-shadow: 0px 1px 3px 1px rgba(0, 0, 0, 0.15);\n",
              "      filter: drop-shadow(0px 1px 2px rgba(0, 0, 0, 0.3));\n",
              "      fill: #FFFFFF;\n",
              "    }\n",
              "  </style>\n",
              "\n",
              "      <script>\n",
              "        const buttonEl =\n",
              "          document.querySelector('#df-d087228f-37ce-4fd9-9e2b-e36bd785a159 button.colab-df-convert');\n",
              "        buttonEl.style.display =\n",
              "          google.colab.kernel.accessAllowed ? 'block' : 'none';\n",
              "\n",
              "        async function convertToInteractive(key) {\n",
              "          const element = document.querySelector('#df-d087228f-37ce-4fd9-9e2b-e36bd785a159');\n",
              "          const dataTable =\n",
              "            await google.colab.kernel.invokeFunction('convertToInteractive',\n",
              "                                                     [key], {});\n",
              "          if (!dataTable) return;\n",
              "\n",
              "          const docLinkHtml = 'Like what you see? Visit the ' +\n",
              "            '<a target=\"_blank\" href=https://colab.research.google.com/notebooks/data_table.ipynb>data table notebook</a>'\n",
              "            + ' to learn more about interactive tables.';\n",
              "          element.innerHTML = '';\n",
              "          dataTable['output_type'] = 'display_data';\n",
              "          await google.colab.output.renderOutput(dataTable, element);\n",
              "          const docLink = document.createElement('div');\n",
              "          docLink.innerHTML = docLinkHtml;\n",
              "          element.appendChild(docLink);\n",
              "        }\n",
              "      </script>\n",
              "    </div>\n",
              "  </div>\n",
              "  "
            ]
          },
          "metadata": {},
          "execution_count": 10
        }
      ]
    },
    {
      "cell_type": "code",
      "source": [
        "df['articleType'].value_counts()\n"
      ],
      "metadata": {
        "colab": {
          "base_uri": "https://localhost:8080/"
        },
        "id": "VvDdFgLSM8VW",
        "outputId": "21287abb-da06-4e4a-e364-6325f5ed36fa"
      },
      "execution_count": null,
      "outputs": [
        {
          "output_type": "execute_result",
          "data": {
            "text/plain": [
              "Tshirts         7067\n",
              "Shirts          3217\n",
              "Casual Shoes    2845\n",
              "Watches         2542\n",
              "Sports Shoes    2036\n",
              "Kurtas          1844\n",
              "Tops            1762\n",
              "Handbags        1759\n",
              "Heels           1323\n",
              "Sunglasses      1073\n",
              "Name: articleType, dtype: int64"
            ]
          },
          "metadata": {},
          "execution_count": 11
        }
      ]
    },
    {
      "cell_type": "markdown",
      "source": [
        "Load Images and visualize some images"
      ],
      "metadata": {
        "id": "HoZHLkCkWg5h"
      }
    },
    {
      "cell_type": "code",
      "source": [
        "base_path='/content/images/'\n"
      ],
      "metadata": {
        "id": "l6AsTY8aM8Qd"
      },
      "execution_count": null,
      "outputs": []
    },
    {
      "cell_type": "code",
      "source": [
        "df['path']=df['id'].apply(lambda x: str(base_path + str(x)+ '.jpg'))\n"
      ],
      "metadata": {
        "id": "wUpJCHwEM8Ls"
      },
      "execution_count": null,
      "outputs": []
    },
    {
      "cell_type": "code",
      "source": [
        "df=df.reset_index()\n"
      ],
      "metadata": {
        "id": "Mskhpl1zM8Ga"
      },
      "execution_count": null,
      "outputs": []
    },
    {
      "cell_type": "code",
      "source": [
        "image.load_img(df['path'][0])\n"
      ],
      "metadata": {
        "colab": {
          "base_uri": "https://localhost:8080/",
          "height": 97
        },
        "id": "cU66nNtSNRWe",
        "outputId": "c4a515fe-58bb-4ced-e0a8-73b2d1a49a94"
      },
      "execution_count": null,
      "outputs": [
        {
          "output_type": "execute_result",
          "data": {
            "text/plain": [
              "<PIL.JpegImagePlugin.JpegImageFile image mode=RGB size=60x80 at 0x7F86980576D0>"
            ],
            "image/png": "[encoded data removed]"
          },
          "metadata": {},
          "execution_count": 15
        }
      ]
    },
    {
      "cell_type": "code",
      "source": [
        "train_df, test_df = train_test_split(df, test_size=0.2, random_state=2022)"
      ],
      "metadata": {
        "id": "OWjetphMNRSV"
      },
      "execution_count": null,
      "outputs": []
    },
    {
      "cell_type": "code",
      "source": [
        "test_df['articleType'].value_counts()\n"
      ],
      "metadata": {
        "colab": {
          "base_uri": "https://localhost:8080/"
        },
        "id": "t4EQuCkhNROI",
        "outputId": "a73d6ce3-2e5c-4b7a-dec8-6e4c0494a0b2"
      },
      "execution_count": null,
      "outputs": [
        {
          "output_type": "execute_result",
          "data": {
            "text/plain": [
              "Tshirts         1424\n",
              "Shirts           650\n",
              "Casual Shoes     559\n",
              "Watches          496\n",
              "Sports Shoes     426\n",
              "Handbags         370\n",
              "Kurtas           347\n",
              "Tops             337\n",
              "Heels            272\n",
              "Sunglasses       213\n",
              "Name: articleType, dtype: int64"
            ]
          },
          "metadata": {},
          "execution_count": 17
        }
      ]
    },
    {
      "cell_type": "code",
      "source": [
        "pics = 6 #set the number of pics\n",
        "fig,ax = plt.subplots(int(pics//2),2,figsize=(15,15))\n",
        "plt.suptitle('Images with Fire')\n",
        "ax = ax.ravel()\n",
        "for i in range((pics//2)*2):\n",
        "    path = df.sample(1).loc[:,'path'].to_numpy()[0]\n",
        "    img = image.load_img(path)\n",
        "    img = image.img_to_array(img)/255\n",
        "    print(img.shape)\n",
        "    ax[i].imshow(img)\n",
        "    ax[i].axes.xaxis.set_visible(False)\n",
        "    ax[i].axes.yaxis.set_visible(False)"
      ],
      "metadata": {
        "colab": {
          "base_uri": "https://localhost:8080/",
          "height": 1000
        },
        "id": "yt0O0IucNRID",
        "outputId": "dabdb480-9cdb-4baa-f3a4-20c63523644c"
      },
      "execution_count": null,
      "outputs": [
        {
          "output_type": "stream",
          "name": "stdout",
          "text": [
            "(80, 60, 3)\n",
            "(80, 60, 3)\n",
            "(80, 60, 3)\n",
            "(80, 60, 3)\n",
            "(80, 60, 3)\n",
            "(80, 60, 3)\n"
          ]
        },
        {
          "output_type": "display_data",
          "data": {
            "text/plain": [
              "<Figure size 1080x1080 with 6 Axes>"
            ],
            "image/png": "[encoded data removed]"
          },
          "metadata": {
            "needs_background": "light"
          }
        }
      ]
    },
    {
      "cell_type": "markdown",
      "source": [
        "Make data generator"
      ],
      "metadata": {
        "id": "oC1W4heTWmqI"
      }
    },
    {
      "cell_type": "code",
      "source": [
        "generator = ImageDataGenerator(\n",
        "    rescale = 1/255,\n",
        "    validation_split=0.2,\n",
        ")"
      ],
      "metadata": {
        "id": "JAzMVoetNfaA"
      },
      "execution_count": null,
      "outputs": []
    },
    {
      "cell_type": "code",
      "source": [
        "test_generator=ImageDataGenerator(\n",
        "    rescale = 1/255\n",
        ")"
      ],
      "metadata": {
        "id": "7U3rYl-RNfWh"
      },
      "execution_count": null,
      "outputs": []
    },
    {
      "cell_type": "code",
      "source": [
        "train_gen = generator.flow_from_dataframe(train_df,x_col='path',y_col='articleType',\n",
        "                                          target_size=(80,60),\n",
        "                                          batch_size=32,\n",
        "                                          subset='training')\n",
        "val_gen = generator.flow_from_dataframe(train_df,x_col='path',y_col='articleType',\n",
        "                                        target_size=(80,60),\n",
        "                                        batch_size=32,\n",
        "                                        subset='validation')"
      ],
      "metadata": {
        "colab": {
          "base_uri": "https://localhost:8080/"
        },
        "id": "MfBTrpPzNfRw",
        "outputId": "113971a6-ac1d-4a9e-b576-e26b88ba8f58"
      },
      "execution_count": null,
      "outputs": [
        {
          "output_type": "stream",
          "name": "stdout",
          "text": [
            "Found 16297 validated image filenames belonging to 10 classes.\n",
            "Found 4074 validated image filenames belonging to 10 classes.\n"
          ]
        }
      ]
    },
    {
      "cell_type": "code",
      "source": [
        "test_gen = test_generator.flow_from_dataframe(test_df,x_col='path',y_col='articleType',\n",
        "                                              target_size=(80,60),\n",
        "                                              batch_size=32\n",
        "                                             )"
      ],
      "metadata": {
        "colab": {
          "base_uri": "https://localhost:8080/"
        },
        "id": "jkVBjfJeNfNt",
        "outputId": "57fb60b1-cc9b-4703-e790-dd697cfc23fa"
      },
      "execution_count": null,
      "outputs": [
        {
          "output_type": "stream",
          "name": "stdout",
          "text": [
            "Found 5094 validated image filenames belonging to 10 classes.\n"
          ]
        }
      ]
    },
    {
      "cell_type": "code",
      "source": [
        "train_gen[0][1][0]"
      ],
      "metadata": {
        "colab": {
          "base_uri": "https://localhost:8080/"
        },
        "id": "pkKZSrs_TE78",
        "outputId": "09ecf4ac-fbaa-416f-a0d7-faf47e0e6891"
      },
      "execution_count": null,
      "outputs": [
        {
          "output_type": "execute_result",
          "data": {
            "text/plain": [
              "array([0., 0., 0., 0., 0., 0., 0., 0., 1., 0.], dtype=float32)"
            ]
          },
          "metadata": {},
          "execution_count": 23
        }
      ]
    },
    {
      "cell_type": "markdown",
      "source": [
        "I have Tried three models:\n",
        "The First Model"
      ],
      "metadata": {
        "id": "FOq3IzfFWt_j"
      }
    },
    {
      "cell_type": "code",
      "source": [
        "model = tf.keras.Sequential([\n",
        "    Flatten(input_shape=(80, 60, 3)),\n",
        "    Dense(128, activation='relu'),\n",
        "    BatchNormalization(),\n",
        "    Dense(128, activation='relu'),\n",
        "    BatchNormalization(),\n",
        "    Dense(64, activation='relu'),\n",
        "    Dense(10,activation='softmax')\n",
        "])"
      ],
      "metadata": {
        "id": "CjiN-urKNfJ6"
      },
      "execution_count": null,
      "outputs": []
    },
    {
      "cell_type": "code",
      "source": [
        "model.compile(optimizer=tf.keras.optimizers.Adam(learning_rate=1e-4),\n",
        "              loss=tf.keras.losses.CategoricalCrossentropy(from_logits=False),\n",
        "              metrics=['accuracy']\n",
        "              )"
      ],
      "metadata": {
        "id": "AY9TsWioNfF8"
      },
      "execution_count": null,
      "outputs": []
    },
    {
      "cell_type": "code",
      "source": [
        "history=model.fit(\n",
        "        train_gen,\n",
        "        epochs=15,\n",
        "        validation_data=val_gen\n",
        "        )"
      ],
      "metadata": {
        "colab": {
          "base_uri": "https://localhost:8080/"
        },
        "id": "9kprKpiINfCS",
        "outputId": "40e47ec7-827e-4691-f0fe-5b4e13d1dd89"
      },
      "execution_count": null,
      "outputs": [
        {
          "output_type": "stream",
          "name": "stdout",
          "text": [
            "Epoch 1/15\n",
            "510/510 [==============================] - 14s 21ms/step - loss: 0.7383 - accuracy: 0.7650 - val_loss: 0.8639 - val_accuracy: 0.6942\n",
            "Epoch 2/15\n",
            "510/510 [==============================] - 10s 20ms/step - loss: 0.4517 - accuracy: 0.8355 - val_loss: 0.9219 - val_accuracy: 0.6308\n",
            "Epoch 3/15\n",
            "510/510 [==============================] - 10s 20ms/step - loss: 0.3914 - accuracy: 0.8576 - val_loss: 1.7624 - val_accuracy: 0.5287\n",
            "Epoch 4/15\n",
            "510/510 [==============================] - 11s 21ms/step - loss: 0.3439 - accuracy: 0.8743 - val_loss: 2.2172 - val_accuracy: 0.5336\n",
            "Epoch 5/15\n",
            "510/510 [==============================] - 12s 23ms/step - loss: 0.3161 - accuracy: 0.8846 - val_loss: 5.8617 - val_accuracy: 0.3152\n",
            "Epoch 6/15\n",
            "510/510 [==============================] - 10s 20ms/step - loss: 0.3063 - accuracy: 0.8894 - val_loss: 1.5393 - val_accuracy: 0.5623\n",
            "Epoch 7/15\n",
            "510/510 [==============================] - 10s 20ms/step - loss: 0.2854 - accuracy: 0.8930 - val_loss: 3.3971 - val_accuracy: 0.4563\n",
            "Epoch 8/15\n",
            "510/510 [==============================] - 10s 20ms/step - loss: 0.2747 - accuracy: 0.8983 - val_loss: 3.6882 - val_accuracy: 0.4396\n",
            "Epoch 9/15\n",
            "510/510 [==============================] - 10s 20ms/step - loss: 0.2632 - accuracy: 0.9037 - val_loss: 2.2437 - val_accuracy: 0.5260\n",
            "Epoch 10/15\n",
            "510/510 [==============================] - 10s 19ms/step - loss: 0.2416 - accuracy: 0.9099 - val_loss: 1.8457 - val_accuracy: 0.5044\n",
            "Epoch 11/15\n",
            "510/510 [==============================] - 10s 20ms/step - loss: 0.2288 - accuracy: 0.9156 - val_loss: 3.8645 - val_accuracy: 0.4377\n",
            "Epoch 12/15\n",
            "510/510 [==============================] - 10s 20ms/step - loss: 0.2249 - accuracy: 0.9174 - val_loss: 0.7893 - val_accuracy: 0.7423\n",
            "Epoch 13/15\n",
            "510/510 [==============================] - 10s 19ms/step - loss: 0.2136 - accuracy: 0.9228 - val_loss: 1.4128 - val_accuracy: 0.6681\n",
            "Epoch 14/15\n",
            "510/510 [==============================] - 10s 19ms/step - loss: 0.2034 - accuracy: 0.9242 - val_loss: 4.0940 - val_accuracy: 0.3378\n",
            "Epoch 15/15\n",
            "510/510 [==============================] - 10s 19ms/step - loss: 0.1851 - accuracy: 0.9323 - val_loss: 1.2741 - val_accuracy: 0.6534\n"
          ]
        }
      ]
    },
    {
      "cell_type": "code",
      "source": [
        "hist=history.history\n",
        "plt.plot(hist[\"accuracy\"],color=\"b\",label=\"train_accuracy\")\n",
        "plt.plot(hist[\"val_accuracy\"],color=\"g\",label=\"val_accuracy\")\n",
        "plt.legend(loc=\"lower right\")\n",
        "plt.show()"
      ],
      "metadata": {
        "colab": {
          "base_uri": "https://localhost:8080/",
          "height": 265
        },
        "id": "gBRKH_6CNe9Q",
        "outputId": "3f01f653-7ca8-4b32-f8dc-1a928156b5e3"
      },
      "execution_count": null,
      "outputs": [
        {
          "output_type": "display_data",
          "data": {
            "text/plain": [
              "<Figure size 432x288 with 1 Axes>"
            ],
            "image/png": "[encoded data removed]"
          },
          "metadata": {
            "needs_background": "light"
          }
        }
      ]
    },
    {
      "cell_type": "code",
      "source": [
        "model.evaluate(val_gen)\n"
      ],
      "metadata": {
        "colab": {
          "base_uri": "https://localhost:8080/"
        },
        "id": "_W6mGZipODDs",
        "outputId": "cecbe755-3e0a-4c5e-a965-b3f455f760b3"
      },
      "execution_count": null,
      "outputs": [
        {
          "output_type": "stream",
          "name": "stdout",
          "text": [
            "128/128 [==============================] - 2s 15ms/step - loss: 1.2741 - accuracy: 0.6534\n"
          ]
        },
        {
          "output_type": "execute_result",
          "data": {
            "text/plain": [
              "[1.274100661277771, 0.653411865234375]"
            ]
          },
          "metadata": {},
          "execution_count": 28
        }
      ]
    },
    {
      "cell_type": "code",
      "source": [
        "model.evaluate(test_gen)\n"
      ],
      "metadata": {
        "colab": {
          "base_uri": "https://localhost:8080/"
        },
        "id": "ZiQzHFIhODA7",
        "outputId": "955cd77c-ad2a-4dec-97ad-5a6098690049"
      },
      "execution_count": null,
      "outputs": [
        {
          "output_type": "stream",
          "name": "stdout",
          "text": [
            "160/160 [==============================] - 3s 16ms/step - loss: 1.2978 - accuracy: 0.6470\n"
          ]
        },
        {
          "output_type": "execute_result",
          "data": {
            "text/plain": [
              "[1.2978190183639526, 0.6470357179641724]"
            ]
          },
          "metadata": {},
          "execution_count": 29
        }
      ]
    },
    {
      "cell_type": "markdown",
      "source": [
        "The Second Model"
      ],
      "metadata": {
        "id": "5s0GfI7-W3pv"
      }
    },
    {
      "cell_type": "code",
      "source": [
        "input_layer=Input(shape=(80,60,3))\n",
        "layer=Conv2D(filters=32,kernel_size=(3,3),activation=\"relu\",padding=\"valid\")(input_layer)\n",
        "layer=MaxPool2D(pool_size=(2,2),strides=(1,1))(layer)\n",
        "layer=BatchNormalization()(layer)\n",
        "\n",
        "layer=Conv2D(filters=16,kernel_size=(3,3),activation=\"relu\",padding=\"valid\")(input_layer)\n",
        "layer=MaxPool2D(pool_size=(2,2),strides=(1,1))(layer)\n",
        "layer=BatchNormalization()(layer)\n",
        "\n",
        "layer=Flatten()(layer)\n",
        "\n",
        "layer=Dense(64,activation=\"relu\")(layer)\n",
        "layer=BatchNormalization()(layer)\n",
        "\n",
        "layer=Dense(32,activation=\"relu\")(layer)\n",
        "output_layer=Dense(10,activation=\"softmax\")(layer)\n",
        "model2=Model(inputs=input_layer,outputs=output_layer)\n",
        "model2.summary()"
      ],
      "metadata": {
        "colab": {
          "base_uri": "https://localhost:8080/"
        },
        "id": "C3usYoYjOC9d",
        "outputId": "a64d5b26-4da1-4e36-cad7-1ddc13a45da6"
      },
      "execution_count": null,
      "outputs": [
        {
          "output_type": "stream",
          "name": "stdout",
          "text": [
            "Model: \"model\"\n",
            "_________________________________________________________________\n",
            " Layer (type)                Output Shape              Param #   \n",
            "=================================================================\n",
            " input_1 (InputLayer)        [(None, 80, 60, 3)]       0         \n",
            "                                                                 \n",
            " conv2d_1 (Conv2D)           (None, 78, 58, 16)        448       \n",
            "                                                                 \n",
            " max_pooling2d_1 (MaxPooling  (None, 77, 57, 16)       0         \n",
            " 2D)                                                             \n",
            "                                                                 \n",
            " batch_normalization_3 (Batc  (None, 77, 57, 16)       64        \n",
            " hNormalization)                                                 \n",
            "                                                                 \n",
            " flatten_1 (Flatten)         (None, 70224)             0         \n",
            "                                                                 \n",
            " dense_4 (Dense)             (None, 64)                4494400   \n",
            "                                                                 \n",
            " batch_normalization_4 (Batc  (None, 64)               256       \n",
            " hNormalization)                                                 \n",
            "                                                                 \n",
            " dense_5 (Dense)             (None, 32)                2080      \n",
            "                                                                 \n",
            " dense_6 (Dense)             (None, 10)                330       \n",
            "                                                                 \n",
            "=================================================================\n",
            "Total params: 4,497,578\n",
            "Trainable params: 4,497,418\n",
            "Non-trainable params: 160\n",
            "_________________________________________________________________\n"
          ]
        }
      ]
    },
    {
      "cell_type": "code",
      "source": [
        "model2.compile(loss='categorical_crossentropy',\n",
        "       optimizer=tf.keras.optimizers.Adam(learning_rate=1e-4),\n",
        "       metrics=['accuracy'])"
      ],
      "metadata": {
        "id": "9fmOyv_yOC5t"
      },
      "execution_count": null,
      "outputs": []
    },
    {
      "cell_type": "code",
      "source": [
        "history2 = model2.fit(\n",
        "    train_gen,\n",
        "    epochs=15,\n",
        "    validation_data=val_gen)"
      ],
      "metadata": {
        "colab": {
          "base_uri": "https://localhost:8080/"
        },
        "id": "ixcytcwdOC1k",
        "outputId": "9d41e1b4-63ed-4d6c-a3b2-5719f1da392c"
      },
      "execution_count": null,
      "outputs": [
        {
          "output_type": "stream",
          "name": "stdout",
          "text": [
            "Epoch 1/15\n",
            "510/510 [==============================] - 19s 21ms/step - loss: 0.6605 - accuracy: 0.8111 - val_loss: 0.5303 - val_accuracy: 0.8579\n",
            "Epoch 2/15\n",
            "510/510 [==============================] - 11s 22ms/step - loss: 0.3307 - accuracy: 0.8970 - val_loss: 0.5473 - val_accuracy: 0.8488\n",
            "Epoch 3/15\n",
            "510/510 [==============================] - 10s 20ms/step - loss: 0.2290 - accuracy: 0.9280 - val_loss: 0.3653 - val_accuracy: 0.8694\n",
            "Epoch 4/15\n",
            "510/510 [==============================] - 11s 21ms/step - loss: 0.1651 - accuracy: 0.9485 - val_loss: 0.3053 - val_accuracy: 0.8952\n",
            "Epoch 5/15\n",
            "510/510 [==============================] - 11s 21ms/step - loss: 0.1194 - accuracy: 0.9631 - val_loss: 0.3171 - val_accuracy: 0.8994\n",
            "Epoch 6/15\n",
            "510/510 [==============================] - 11s 21ms/step - loss: 0.0936 - accuracy: 0.9726 - val_loss: 0.3151 - val_accuracy: 0.9028\n",
            "Epoch 7/15\n",
            "510/510 [==============================] - 10s 20ms/step - loss: 0.0724 - accuracy: 0.9803 - val_loss: 0.3165 - val_accuracy: 0.8969\n",
            "Epoch 8/15\n",
            "510/510 [==============================] - 11s 21ms/step - loss: 0.0543 - accuracy: 0.9860 - val_loss: 0.3180 - val_accuracy: 0.9006\n",
            "Epoch 9/15\n",
            "510/510 [==============================] - 11s 21ms/step - loss: 0.0428 - accuracy: 0.9898 - val_loss: 0.3505 - val_accuracy: 0.8994\n",
            "Epoch 10/15\n",
            "510/510 [==============================] - 10s 20ms/step - loss: 0.0399 - accuracy: 0.9902 - val_loss: 0.3866 - val_accuracy: 0.8969\n",
            "Epoch 11/15\n",
            "510/510 [==============================] - 10s 20ms/step - loss: 0.0342 - accuracy: 0.9920 - val_loss: 0.3944 - val_accuracy: 0.8974\n",
            "Epoch 12/15\n",
            "510/510 [==============================] - 10s 21ms/step - loss: 0.0300 - accuracy: 0.9928 - val_loss: 0.3714 - val_accuracy: 0.8930\n",
            "Epoch 13/15\n",
            "510/510 [==============================] - 10s 20ms/step - loss: 0.0260 - accuracy: 0.9938 - val_loss: 0.3864 - val_accuracy: 0.8927\n",
            "Epoch 14/15\n",
            "510/510 [==============================] - 10s 20ms/step - loss: 0.0199 - accuracy: 0.9953 - val_loss: 0.7185 - val_accuracy: 0.8515\n",
            "Epoch 15/15\n",
            "510/510 [==============================] - 11s 21ms/step - loss: 0.0248 - accuracy: 0.9929 - val_loss: 0.3914 - val_accuracy: 0.8940\n"
          ]
        }
      ]
    },
    {
      "cell_type": "code",
      "source": [
        "hist=history2.history\n",
        "plt.plot(hist[\"accuracy\"],color=\"b\",label=\"train_accuracy\")\n",
        "plt.plot(hist[\"val_accuracy\"],color=\"g\",label=\"val_accuracy\")\n",
        "plt.legend(loc=\"lower right\")\n",
        "plt.show()"
      ],
      "metadata": {
        "colab": {
          "base_uri": "https://localhost:8080/",
          "height": 265
        },
        "id": "Mo-Y10QeOCxd",
        "outputId": "345c68a0-30f6-4461-bc35-30bb0ad59523"
      },
      "execution_count": null,
      "outputs": [
        {
          "output_type": "display_data",
          "data": {
            "text/plain": [
              "<Figure size 432x288 with 1 Axes>"
            ],
            "image/png": "[encoded data removed]"
          },
          "metadata": {
            "needs_background": "light"
          }
        }
      ]
    },
    {
      "cell_type": "code",
      "source": [
        "model2.evaluate(val_gen)\n"
      ],
      "metadata": {
        "colab": {
          "base_uri": "https://localhost:8080/"
        },
        "id": "4jQIpmKxOCsu",
        "outputId": "1caedb65-1fd6-452f-e1f1-932b70f8d2f9"
      },
      "execution_count": null,
      "outputs": [
        {
          "output_type": "stream",
          "name": "stdout",
          "text": [
            "128/128 [==============================] - 2s 18ms/step - loss: 0.3914 - accuracy: 0.8940\n"
          ]
        },
        {
          "output_type": "execute_result",
          "data": {
            "text/plain": [
              "[0.3913547694683075, 0.8939617276191711]"
            ]
          },
          "metadata": {},
          "execution_count": 34
        }
      ]
    },
    {
      "cell_type": "code",
      "source": [
        "model2.evaluate(test_gen)\n"
      ],
      "metadata": {
        "colab": {
          "base_uri": "https://localhost:8080/"
        },
        "id": "bN9P5rc5OCoC",
        "outputId": "f1e0c551-f12b-49d9-deaa-7d7159deadc4"
      },
      "execution_count": null,
      "outputs": [
        {
          "output_type": "stream",
          "name": "stdout",
          "text": [
            "160/160 [==============================] - 3s 17ms/step - loss: 0.3634 - accuracy: 0.9007\n"
          ]
        },
        {
          "output_type": "execute_result",
          "data": {
            "text/plain": [
              "[0.3634204566478729, 0.9006674289703369]"
            ]
          },
          "metadata": {},
          "execution_count": 35
        }
      ]
    },
    {
      "cell_type": "markdown",
      "source": [
        "The third model"
      ],
      "metadata": {
        "id": "jwLrJGJNXBdo"
      }
    },
    {
      "cell_type": "code",
      "source": [
        "from tensorflow.keras.applications.vgg16 import VGG16\n",
        "\n",
        "base_model = VGG16(input_shape = (80, 60, 3), # Shape of our images\n",
        "include_top = False, # Leave out the last fully connected layer\n",
        "weights = 'imagenet')"
      ],
      "metadata": {
        "colab": {
          "base_uri": "https://localhost:8080/"
        },
        "id": "vV0CSGb3XAD8",
        "outputId": "4b6ef816-e143-4434-a081-9f946a0c0c08"
      },
      "execution_count": null,
      "outputs": [
        {
          "output_type": "stream",
          "name": "stdout",
          "text": [
            "Downloading data from https://storage.googleapis.com/tensorflow/keras-applications/vgg16/vgg16_weights_tf_dim_ordering_tf_kernels_notop.h5\n",
            "58892288/58889256 [==============================] - 0s 0us/step\n",
            "58900480/58889256 [==============================] - 0s 0us/step\n"
          ]
        }
      ]
    },
    {
      "cell_type": "code",
      "source": [
        "for layer in base_model.layers:\n",
        "    layer.trainable = False"
      ],
      "metadata": {
        "id": "rQ8IRIXZXen7"
      },
      "execution_count": null,
      "outputs": []
    },
    {
      "cell_type": "code",
      "source": [
        "# Flatten the output layer to 1 dimension\n",
        "x = layers.Flatten()(base_model.output)\n",
        "\n",
        "# Add a fully connected layer with 512 hidden units and ReLU activation\n",
        "x = layers.Dense(512, activation='relu')(x)\n",
        "\n",
        "# Add a dropout rate of 0.5\n",
        "x = layers.Dropout(0.5)(x)\n",
        "\n",
        "# Add a final softmax layer with 10 node for classification output\n",
        "x = layers.Dense(10, activation='softmax')(x)\n",
        "\n",
        "model3 = tf.keras.models.Model(base_model.input, x)\n",
        "\n",
        "model3.compile(loss='categorical_crossentropy',\n",
        "       optimizer=tf.keras.optimizers.Adam(learning_rate=1e-4),\n",
        "       metrics=['accuracy'])"
      ],
      "metadata": {
        "id": "t8oh3up6XelU"
      },
      "execution_count": null,
      "outputs": []
    },
    {
      "cell_type": "code",
      "source": [
        "vgghist = model3.fit(train_gen,\n",
        "    epochs=15,\n",
        "    validation_data=val_gen)\n"
      ],
      "metadata": {
        "colab": {
          "base_uri": "https://localhost:8080/"
        },
        "id": "qd-ZjtTIXeiX",
        "outputId": "5cf0cb72-fab4-4c2f-c00d-34bd58c1a71c"
      },
      "execution_count": null,
      "outputs": [
        {
          "output_type": "stream",
          "name": "stdout",
          "text": [
            "Epoch 1/15\n",
            "510/510 [==============================] - 16s 29ms/step - loss: 1.0032 - accuracy: 0.6629 - val_loss: 0.5166 - val_accuracy: 0.8311\n",
            "Epoch 2/15\n",
            "510/510 [==============================] - 14s 28ms/step - loss: 0.5418 - accuracy: 0.8087 - val_loss: 0.4145 - val_accuracy: 0.8532\n",
            "Epoch 3/15\n",
            "510/510 [==============================] - 14s 28ms/step - loss: 0.4512 - accuracy: 0.8378 - val_loss: 0.3637 - val_accuracy: 0.8733\n",
            "Epoch 4/15\n",
            "510/510 [==============================] - 14s 28ms/step - loss: 0.4048 - accuracy: 0.8494 - val_loss: 0.3433 - val_accuracy: 0.8785\n",
            "Epoch 5/15\n",
            "510/510 [==============================] - 14s 28ms/step - loss: 0.3724 - accuracy: 0.8629 - val_loss: 0.3186 - val_accuracy: 0.8859\n",
            "Epoch 6/15\n",
            "510/510 [==============================] - 14s 28ms/step - loss: 0.3516 - accuracy: 0.8657 - val_loss: 0.3098 - val_accuracy: 0.8900\n",
            "Epoch 7/15\n",
            "510/510 [==============================] - 14s 28ms/step - loss: 0.3366 - accuracy: 0.8738 - val_loss: 0.3047 - val_accuracy: 0.8873\n",
            "Epoch 8/15\n",
            "510/510 [==============================] - 14s 28ms/step - loss: 0.3178 - accuracy: 0.8813 - val_loss: 0.2961 - val_accuracy: 0.8925\n",
            "Epoch 9/15\n",
            "510/510 [==============================] - 14s 28ms/step - loss: 0.3061 - accuracy: 0.8880 - val_loss: 0.2883 - val_accuracy: 0.8940\n",
            "Epoch 10/15\n",
            "510/510 [==============================] - 14s 28ms/step - loss: 0.2928 - accuracy: 0.8909 - val_loss: 0.2802 - val_accuracy: 0.8935\n",
            "Epoch 11/15\n",
            "510/510 [==============================] - 15s 29ms/step - loss: 0.2846 - accuracy: 0.8941 - val_loss: 0.2784 - val_accuracy: 0.8967\n",
            "Epoch 12/15\n",
            "510/510 [==============================] - 14s 28ms/step - loss: 0.2759 - accuracy: 0.8946 - val_loss: 0.2797 - val_accuracy: 0.8954\n",
            "Epoch 13/15\n",
            "510/510 [==============================] - 14s 28ms/step - loss: 0.2696 - accuracy: 0.8983 - val_loss: 0.2710 - val_accuracy: 0.8972\n",
            "Epoch 14/15\n",
            "510/510 [==============================] - 14s 28ms/step - loss: 0.2627 - accuracy: 0.8997 - val_loss: 0.2660 - val_accuracy: 0.9011\n",
            "Epoch 15/15\n",
            "510/510 [==============================] - 14s 28ms/step - loss: 0.2551 - accuracy: 0.9006 - val_loss: 0.2634 - val_accuracy: 0.9016\n"
          ]
        }
      ]
    },
    {
      "cell_type": "code",
      "source": [
        "hist=vgghist.history\n",
        "plt.plot(hist[\"accuracy\"],color=\"b\",label=\"train_accuracy\")\n",
        "plt.plot(hist[\"val_accuracy\"],color=\"g\",label=\"val_accuracy\")\n",
        "plt.legend(loc=\"lower right\")\n",
        "plt.show()"
      ],
      "metadata": {
        "colab": {
          "base_uri": "https://localhost:8080/",
          "height": 265
        },
        "id": "2MSDSOkwYe9_",
        "outputId": "f4628b4b-173e-40e0-d447-7c983168b9d0"
      },
      "execution_count": null,
      "outputs": [
        {
          "output_type": "display_data",
          "data": {
            "text/plain": [
              "<Figure size 432x288 with 1 Axes>"
            ],
            "image/png": "[encoded data removed]"
          },
          "metadata": {
            "needs_background": "light"
          }
        }
      ]
    },
    {
      "cell_type": "code",
      "source": [
        "model3.evaluate(val_gen)\n"
      ],
      "metadata": {
        "colab": {
          "base_uri": "https://localhost:8080/"
        },
        "id": "AUw_x_hbYfVA",
        "outputId": "b52db678-edda-4c89-c725-7e2292e52a18"
      },
      "execution_count": null,
      "outputs": [
        {
          "output_type": "stream",
          "name": "stdout",
          "text": [
            "128/128 [==============================] - 6s 42ms/step - loss: 0.2634 - accuracy: 0.9016\n"
          ]
        },
        {
          "output_type": "execute_result",
          "data": {
            "text/plain": [
              "[0.26344817876815796, 0.9015709161758423]"
            ]
          },
          "metadata": {},
          "execution_count": 42
        }
      ]
    },
    {
      "cell_type": "code",
      "source": [
        "model3.evaluate(test_gen)\n"
      ],
      "metadata": {
        "colab": {
          "base_uri": "https://localhost:8080/"
        },
        "id": "_WlPXMhbYfsH",
        "outputId": "1b82c568-dfb0-4d3c-c3c8-c55a3ba2df5d"
      },
      "execution_count": null,
      "outputs": [
        {
          "output_type": "stream",
          "name": "stdout",
          "text": [
            "160/160 [==============================] - 6s 35ms/step - loss: 0.2781 - accuracy: 0.8899\n"
          ]
        },
        {
          "output_type": "execute_result",
          "data": {
            "text/plain": [
              "[0.27809983491897583, 0.8898704648017883]"
            ]
          },
          "metadata": {},
          "execution_count": 43
        }
      ]
    },
    {
      "cell_type": "code",
      "source": [
        "model.save(\"my_h5_model1.h5\")\n"
      ],
      "metadata": {
        "id": "7smPMWGL4a3e"
      },
      "execution_count": null,
      "outputs": []
    },
    {
      "cell_type": "code",
      "source": [
        "model2.save(\"my_h5_model2.h5\")\n"
      ],
      "metadata": {
        "id": "Igyp7Kz99Vbn"
      },
      "execution_count": null,
      "outputs": []
    },
    {
      "cell_type": "code",
      "source": [
        "model3.save(\"my_h5_model3.h5\")\n"
      ],
      "metadata": {
        "id": "2IlrPooi9Wxv"
      },
      "execution_count": null,
      "outputs": []
    }
  ]
}